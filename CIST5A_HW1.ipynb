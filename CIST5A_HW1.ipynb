{
  "cells": [
    {
      "cell_type": "markdown",
      "metadata": {
        "id": "view-in-github",
        "colab_type": "text"
      },
      "source": [
        "<a href=\"https://colab.research.google.com/github/frankliu6/python-learning-journal/blob/main/CIST5A_HW1.ipynb\" target=\"_parent\"><img src=\"https://colab.research.google.com/assets/colab-badge.svg\" alt=\"Open In Colab\"/></a>"
      ]
    },
    {
      "cell_type": "markdown",
      "id": "191a475a",
      "metadata": {
        "id": "191a475a"
      },
      "source": [
        "\n",
        "# Homework: Introduction to Python\n",
        "\n",
        "In this homework assignment, you'll practice what you've learned so far: variables, types, operators, errors, and print statements. Complete each part and submit your notebook when you're done.\n",
        "\n",
        "**Instructions:**\n",
        "- Write your code in the provided cells.\n",
        "- Run each cell to check your results.\n",
        "- Submit your completed notebook by the due date.\n"
      ]
    },
    {
      "cell_type": "markdown",
      "id": "1a66deb5",
      "metadata": {
        "id": "1a66deb5"
      },
      "source": [
        "\n",
        "## Part 1: Variables and Types\n",
        "\n",
        "### Exercise 1\n",
        "Create variables of the following types: `int`, `float`, and `str`. Assign any values you like to them and print each one.\n"
      ]
    },
    {
      "cell_type": "code",
      "source": [
        "intVar = 268\n",
        "floatVar = 3.1415\n",
        "strVar = \"Hello World, these are python variables.\"\n",
        "print(intVar)\n",
        "print(floatVar)\n",
        "print(strVar)\n"
      ],
      "metadata": {
        "id": "lyl__MZGvkzb",
        "colab": {
          "base_uri": "https://localhost:8080/"
        },
        "outputId": "40e618ec-c33a-49ff-a809-0c48d1b48c5b"
      },
      "id": "lyl__MZGvkzb",
      "execution_count": 33,
      "outputs": [
        {
          "output_type": "stream",
          "name": "stdout",
          "text": [
            "268\n",
            "3.1415\n",
            "Hello World, these are python variables.\n"
          ]
        }
      ]
    },
    {
      "cell_type": "markdown",
      "id": "48c9443a",
      "metadata": {
        "id": "48c9443a"
      },
      "source": [
        "\n",
        "### Exercise 2\n",
        "The following code contains errors. Identify and correct them.\n"
      ]
    },
    {
      "cell_type": "code",
      "source": [
        "\n",
        "# The code below has errors. Fix them.\n",
        "my_number = \"10\"\n",
        "my_float = 5.0\n",
        "result = int(my_number) + my_float\n",
        "print(\"The result is: \" + str(result))\n"
      ],
      "metadata": {
        "id": "SvF8gutvvnZD",
        "colab": {
          "base_uri": "https://localhost:8080/"
        },
        "outputId": "1282317b-cd9e-4775-beb5-cfdeedc90cdf"
      },
      "id": "SvF8gutvvnZD",
      "execution_count": 34,
      "outputs": [
        {
          "output_type": "stream",
          "name": "stdout",
          "text": [
            "The result is: 15.0\n"
          ]
        }
      ]
    },
    {
      "cell_type": "markdown",
      "id": "a3c015b6",
      "metadata": {
        "id": "a3c015b6"
      },
      "source": [
        "\n",
        "## Part 2: Operators\n",
        "\n",
        "### Exercise 3\n",
        "Perform the following arithmetic operations and print the results:\n",
        "1. Addition of two numbers.\n",
        "2. Subtraction of one number from another.\n",
        "3. Multiplication of two numbers.\n",
        "4. Division of one number by another.\n"
      ]
    },
    {
      "cell_type": "code",
      "source": [
        "additionResult = 2.45 + 87\n",
        "subtractionResult = 23.8 - 9\n",
        "multiplicationResult = 15 * 8\n",
        "divisionResult = 120 / 60\n",
        "print(additionResult)\n",
        "print(subtractionResult)\n",
        "print(multiplicationResult)\n",
        "print(divisionResult)\n"
      ],
      "metadata": {
        "id": "zamuhw5Nvqzz",
        "colab": {
          "base_uri": "https://localhost:8080/"
        },
        "outputId": "fa88958d-6814-4e7e-8b2b-d25d3e3bf893"
      },
      "id": "zamuhw5Nvqzz",
      "execution_count": 35,
      "outputs": [
        {
          "output_type": "stream",
          "name": "stdout",
          "text": [
            "89.45\n",
            "14.8\n",
            "120\n",
            "2.0\n"
          ]
        }
      ]
    },
    {
      "cell_type": "markdown",
      "id": "f980daed",
      "metadata": {
        "id": "f980daed"
      },
      "source": [
        "\n",
        "### Exercise 4\n",
        "Use comparison and logical operators to evaluate the following expressions and print the results:\n",
        "1. Is 10 greater than 5?\n",
        "2. Is 3 less than or equal to 3?\n",
        "3. Is 7 equal to 8?\n",
        "4. Is 5 greater than 3 and 2 less than 4?\n"
      ]
    },
    {
      "cell_type": "code",
      "source": [
        "print('10 > 5 is ' + str(10 > 5))\n",
        "print('3 <= 3 is ' + str(3 <= 3))\n",
        "print('7 == 8 is ' + str(7 == 8))\n",
        "print('5 > 3 and 2 < 4 is ' + str(5 > 3 and 2 < 4))\n"
      ],
      "metadata": {
        "id": "XppOrgdkvsek",
        "colab": {
          "base_uri": "https://localhost:8080/"
        },
        "outputId": "1a949e2d-4a71-4234-ac76-b57173060ced"
      },
      "id": "XppOrgdkvsek",
      "execution_count": 36,
      "outputs": [
        {
          "output_type": "stream",
          "name": "stdout",
          "text": [
            "10 > 5 is True\n",
            "3 <= 3 is True\n",
            "7 == 8 is False\n",
            "5 > 3 and 2 < 4 is True\n"
          ]
        }
      ]
    },
    {
      "cell_type": "markdown",
      "id": "2d983229",
      "metadata": {
        "id": "2d983229"
      },
      "source": [
        "\n",
        "## Part 3: Errors and Debugging\n",
        "\n",
        "### Exercise 5\n",
        "The following code contains syntax and runtime errors. Identify and correct them.\n"
      ]
    },
    {
      "cell_type": "code",
      "source": [
        "\n",
        "# The code below has errors. Fix them.\n",
        "\"\"\"\n",
        "my Variable = \"This is my first string\";\n",
        "2remove = \" first\";\n",
        "final String = my Variable - 2remove;\n",
        "print(final String);\n",
        "\"\"\"\n",
        "myVariable = \"This is my first string\";\n",
        "remove = \" first\"\n",
        "finalString = myVariable.replace(remove, \"\")\n",
        "print(finalString);"
      ],
      "metadata": {
        "id": "j4_bjx1dvuiZ",
        "colab": {
          "base_uri": "https://localhost:8080/"
        },
        "outputId": "83fd1d66-e776-4a2d-d240-23a5059d7d6c"
      },
      "id": "j4_bjx1dvuiZ",
      "execution_count": 37,
      "outputs": [
        {
          "output_type": "stream",
          "name": "stdout",
          "text": [
            "This is my string\n"
          ]
        }
      ]
    },
    {
      "cell_type": "markdown",
      "id": "d518bb80",
      "metadata": {
        "id": "d518bb80"
      },
      "source": [
        "\n",
        "## Part 4: Print Statements\n",
        "\n",
        "### Exercise 6\n",
        "Use print statements to display the following:\n",
        "1. A string that says \"Hello, World!\"\n",
        "2. A formatted string that includes the values of two variables.\n"
      ]
    },
    {
      "cell_type": "code",
      "source": [
        "print('Hello, World!')\n",
        "var1 = 'Hello,'\n",
        "var2 = 'World!'\n",
        "print(var1, var2)\n"
      ],
      "metadata": {
        "id": "PGuvP7m3w172",
        "colab": {
          "base_uri": "https://localhost:8080/"
        },
        "outputId": "68a97eac-854d-4d91-f935-5392de9bdace"
      },
      "id": "PGuvP7m3w172",
      "execution_count": 38,
      "outputs": [
        {
          "output_type": "stream",
          "name": "stdout",
          "text": [
            "Hello, World!\n",
            "Hello, World!\n"
          ]
        }
      ]
    },
    {
      "cell_type": "markdown",
      "id": "c21ec108",
      "metadata": {
        "id": "c21ec108"
      },
      "source": [
        "\n",
        "### Exercise 7\n",
        "Print multiple variables each on their own line using a **single** print statement.\n"
      ]
    },
    {
      "cell_type": "code",
      "source": [
        "var1 = ' Hello'\n",
        "var2 = 'World!'\n",
        "var3 = 'This'\n",
        "var4 = 'is'\n",
        "var5 = 'Exercise 7'\n",
        "print(var1, '\\n', var2, '\\n', var3, '\\n', var4, '\\n', var5)"
      ],
      "metadata": {
        "id": "gq6QZ9Qiw3ur",
        "colab": {
          "base_uri": "https://localhost:8080/"
        },
        "outputId": "4a1ba5f9-54a9-417f-e39d-1815d2f97690"
      },
      "id": "gq6QZ9Qiw3ur",
      "execution_count": 39,
      "outputs": [
        {
          "output_type": "stream",
          "name": "stdout",
          "text": [
            " Hello \n",
            " World! \n",
            " This \n",
            " is \n",
            " Exercise 7\n"
          ]
        }
      ]
    },
    {
      "cell_type": "markdown",
      "id": "7cceefaf",
      "metadata": {
        "id": "7cceefaf"
      },
      "source": [
        "\n",
        "## Conclusion\n",
        "\n",
        "Reflect on what you've learned in this homework. What parts were easy for you? Which ones were challenging? Write a few sentences below.\n"
      ]
    },
    {
      "cell_type": "markdown",
      "source": [
        "The arithmatic statemets are easy.  The string format statements need some thoughts.\n"
      ],
      "metadata": {
        "id": "1sOxZi-j8iPe"
      },
      "id": "1sOxZi-j8iPe"
    }
  ],
  "metadata": {
    "colab": {
      "provenance": [],
      "include_colab_link": true
    },
    "language_info": {
      "name": "python"
    },
    "kernelspec": {
      "name": "python3",
      "display_name": "Python 3"
    }
  },
  "nbformat": 4,
  "nbformat_minor": 5
}