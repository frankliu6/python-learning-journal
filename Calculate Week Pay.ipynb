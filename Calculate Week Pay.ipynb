{
  "nbformat": 4,
  "nbformat_minor": 0,
  "metadata": {
    "colab": {
      "provenance": [],
      "authorship_tag": "ABX9TyMpXt0xLcp5j7a8NAKJuL9o",
      "include_colab_link": true
    },
    "kernelspec": {
      "name": "python3",
      "display_name": "Python 3"
    },
    "language_info": {
      "name": "python"
    }
  },
  "cells": [
    {
      "cell_type": "markdown",
      "metadata": {
        "id": "view-in-github",
        "colab_type": "text"
      },
      "source": [
        "<a href=\"https://colab.research.google.com/github/frankliu6/python-learning-journal/blob/main/Calculate%20Week%20Pay.ipynb\" target=\"_parent\"><img src=\"https://colab.research.google.com/assets/colab-badge.svg\" alt=\"Open In Colab\"/></a>"
      ]
    },
    {
      "cell_type": "code",
      "execution_count": null,
      "metadata": {
        "colab": {
          "base_uri": "https://localhost:8080/"
        },
        "id": "yHvnt0pC-fJH",
        "outputId": "9ebaa7ac-b5f2-474c-b730-38c4af0ead3f"
      },
      "outputs": [
        {
          "output_type": "stream",
          "name": "stdout",
          "text": [
            "Please modify the value to be converted.\n",
            "Kilometer to Mile:\n",
            "1033 Kilometer =  641.87643927 Miles\n",
            "Celsius to Fahrenheit:\n",
            "40 Celsius =  104.0 Fahrenheit\n",
            "Binary to Decimal:\n",
            "101101000  =  360\n"
          ]
        }
      ],
      "source": [
        "#Python Lab 2\n",
        "#Conversion Tools\n",
        "\n",
        "kilometerValue = 1033\n",
        "print('Please modify the value to be converted.')\n",
        "print('Kilometer to Mile:')\n",
        "print(kilometerValue, 'Kilometer = ', kilometerValue * 0.62137119, 'Miles')\n",
        "\n",
        "celsiusValue = 40\n",
        "print('Celsius to Fahrenheit:')\n",
        "print(celsiusValue, 'Celsius = ', celsiusValue * 9/5 + 32, 'Fahrenheit')\n",
        "\n",
        "binaryValue = 101101000\n",
        "print('Binary to Decimal:')\n",
        "print(binaryValue, ' = ', int(str(binaryValue), 2))\n"
      ]
    },
    {
      "cell_type": "code",
      "source": [
        "#Calculate weekly pay\n",
        "payRate = float(input(\"Your hourly rate: $\"))\n",
        "workHours = float(input(\"Your working hours in this week: \"))\n",
        "overTimeHours = workHours - 40\n",
        "workHours = min(workHours, 40)\n",
        "overTimeHours = max(0, overTimeHours)\n",
        "\n",
        "print(\"Your expected pay for this week: $\" + str(payRate * workHours + overTimeHours * payRate * 1.5))\n"
      ],
      "metadata": {
        "colab": {
          "base_uri": "https://localhost:8080/"
        },
        "id": "j6mFRzBVyNu2",
        "outputId": "6d7f5bc4-6d7b-48d6-f412-b0578dd0fd39"
      },
      "execution_count": null,
      "outputs": [
        {
          "output_type": "stream",
          "name": "stdout",
          "text": [
            "Your hourly rate: $10.5\n",
            "Your working hours in this week: 66\n",
            "Your expected pay for this week: $829.5\n"
          ]
        }
      ]
    }
  ]
}