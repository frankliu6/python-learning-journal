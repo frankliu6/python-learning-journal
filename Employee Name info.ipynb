{
  "nbformat": 4,
  "nbformat_minor": 0,
  "metadata": {
    "colab": {
      "provenance": [],
      "authorship_tag": "ABX9TyMRLYxinIX8KykA4izUzTD8",
      "include_colab_link": true
    },
    "kernelspec": {
      "name": "python3",
      "display_name": "Python 3"
    },
    "language_info": {
      "name": "python"
    }
  },
  "cells": [
    {
      "cell_type": "markdown",
      "metadata": {
        "id": "view-in-github",
        "colab_type": "text"
      },
      "source": [
        "<a href=\"https://colab.research.google.com/github/frankliu6/python-learning-journal/blob/main/Employee%20Name%20info.ipynb\" target=\"_parent\"><img src=\"https://colab.research.google.com/assets/colab-badge.svg\" alt=\"Open In Colab\"/></a>"
      ]
    },
    {
      "cell_type": "code",
      "execution_count": 31,
      "metadata": {
        "colab": {
          "base_uri": "https://localhost:8080/"
        },
        "id": "ASnpnALtpT22",
        "outputId": "95fda1ff-0b87-4f1c-8b19-2ecb2e9e52a7"
      },
      "outputs": [
        {
          "output_type": "stream",
          "name": "stdout",
          "text": [
            "Emplyee Name:  John Doe\n",
            "Monthly Pay after Tax/Insurance:  $ 1400.0\n",
            "Yearly Salary after Tax/Insurance:  $ 16800.0\n"
          ]
        }
      ],
      "source": [
        "employeeName = \"John Doe\"\n",
        "baseMonthlyPay = 2000\n",
        "\n",
        "print('Emplyee Name: ', employeeName)\n",
        "print('Monthly Pay after Tax/Insurance:  $', baseMonthlyPay * 0.7)\n",
        "print('Yearly Salary after Tax/Insurance:  $',  baseMonthlyPay * 0.7 * 12)\n",
        "\n"
      ]
    }
  ]
}