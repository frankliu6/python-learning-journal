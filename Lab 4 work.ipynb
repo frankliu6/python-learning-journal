{
  "nbformat": 4,
  "nbformat_minor": 0,
  "metadata": {
    "colab": {
      "provenance": [],
      "authorship_tag": "ABX9TyNOuGpIwGfMUeCVoMhhLZbA",
      "include_colab_link": true
    },
    "kernelspec": {
      "name": "python3",
      "display_name": "Python 3"
    },
    "language_info": {
      "name": "python"
    }
  },
  "cells": [
    {
      "cell_type": "markdown",
      "metadata": {
        "id": "view-in-github",
        "colab_type": "text"
      },
      "source": [
        "<a href=\"https://colab.research.google.com/github/frankliu6/python-learning-journal/blob/main/Lab%204%20work.ipynb\" target=\"_parent\"><img src=\"https://colab.research.google.com/assets/colab-badge.svg\" alt=\"Open In Colab\"/></a>"
      ]
    },
    {
      "cell_type": "code",
      "execution_count": 3,
      "metadata": {
        "colab": {
          "base_uri": "https://localhost:8080/"
        },
        "id": "XAgzR7ipHfYt",
        "outputId": "174f81e8-9f4a-4e9b-9811-ae377de03ba9"
      },
      "outputs": [
        {
          "output_type": "stream",
          "name": "stdout",
          "text": [
            "Enter the radius of the circle: 22\n",
            "The area of the circle is 1520.53\n",
            "\n",
            "Enter the height of the rectangle: 45\n",
            "Enter the width of the rectangle: 21\n",
            "The area of the rectangle is 945.00\n",
            "\n",
            "Enter the base of the triangle: 34\n",
            "Enter the height of the triangle: 56\n",
            "The area of the triangle is 952.00\n",
            "\n"
          ]
        }
      ],
      "source": [
        "# Author:  Frank Liu\n",
        "def calculateRadius():\n",
        "    radius = float(input(\"Enter the radius of the circle: \"))\n",
        "    return radius*radius*3.14159\n",
        "\n",
        "def calculateRectangle():\n",
        "    height = float(input(\"Enter the height of the rectangle: \"))\n",
        "    width = float(input(\"Enter the width of the rectangle: \"))\n",
        "    return height*width\n",
        "\n",
        "def calculateTriangle():\n",
        "    base = float(input(\"Enter the base of the triangle: \"))\n",
        "    height = float(input(\"Enter the height of the triangle: \"))\n",
        "    return base*height/2\n",
        "\n",
        "print(f\"The area of the circle is {calculateRadius():.2f}\\n\")\n",
        "print(f\"The area of the rectangle is {calculateRectangle():.2f}\\n\")\n",
        "print(f\"The area of the triangle is {calculateTriangle():.2f}\\n\")\n"
      ]
    }
  ]
}