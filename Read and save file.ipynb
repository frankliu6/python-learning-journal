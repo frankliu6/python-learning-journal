{
  "nbformat": 4,
  "nbformat_minor": 0,
  "metadata": {
    "colab": {
      "provenance": [],
      "authorship_tag": "ABX9TyNrSiHFodc0iMlPTqEU9WI2",
      "include_colab_link": true
    },
    "kernelspec": {
      "name": "python3",
      "display_name": "Python 3"
    },
    "language_info": {
      "name": "python"
    }
  },
  "cells": [
    {
      "cell_type": "markdown",
      "metadata": {
        "id": "view-in-github",
        "colab_type": "text"
      },
      "source": [
        "<a href=\"https://colab.research.google.com/github/frankliu6/python-learning-journal/blob/main/Read%20and%20save%20file.ipynb\" target=\"_parent\"><img src=\"https://colab.research.google.com/assets/colab-badge.svg\" alt=\"Open In Colab\"/></a>"
      ]
    },
    {
      "cell_type": "code",
      "execution_count": null,
      "metadata": {
        "colab": {
          "base_uri": "https://localhost:8080/"
        },
        "id": "yHvnt0pC-fJH",
        "outputId": "9ebaa7ac-b5f2-474c-b730-38c4af0ead3f"
      },
      "outputs": [
        {
          "output_type": "stream",
          "name": "stdout",
          "text": [
            "Please modify the value to be converted.\n",
            "Kilometer to Mile:\n",
            "1033 Kilometer =  641.87643927 Miles\n",
            "Celsius to Fahrenheit:\n",
            "40 Celsius =  104.0 Fahrenheit\n",
            "Binary to Decimal:\n",
            "101101000  =  360\n"
          ]
        }
      ],
      "source": [
        "#Python Lab 2\n",
        "#Conversion Tools\n",
        "\n",
        "kilometerValue = 1033\n",
        "print('Please modify the value to be converted.')\n",
        "print('Kilometer to Mile:')\n",
        "print(kilometerValue, 'Kilometer = ', kilometerValue * 0.62137119, 'Miles')\n",
        "\n",
        "celsiusValue = 40\n",
        "print('Celsius to Fahrenheit:')\n",
        "print(celsiusValue, 'Celsius = ', celsiusValue * 9/5 + 32, 'Fahrenheit')\n",
        "\n",
        "binaryValue = 101101000\n",
        "print('Binary to Decimal:')\n",
        "print(binaryValue, ' = ', int(str(binaryValue), 2))\n"
      ]
    },
    {
      "cell_type": "code",
      "source": [],
      "metadata": {
        "id": "uMpQhfx51c9L"
      },
      "execution_count": null,
      "outputs": []
    },
    {
      "cell_type": "code",
      "source": [
        "#Calculate weekly pay\n",
        "payRate = float(input(\"Your hourly rate: $\"))\n",
        "workHours = float(input(\"Your working hours in this week: \"))\n",
        "workHours = min(40, workHours)\n",
        "overTimeHours = max(0, workHours - 40)\n",
        "\n",
        "print(\"Your expect to get pay for this week: $\" + str(payRate * workHours + overTimeHours * payRate * 1.5))\n"
      ],
      "metadata": {
        "colab": {
          "base_uri": "https://localhost:8080/"
        },
        "id": "j6mFRzBVyNu2",
        "outputId": "4c3fe795-a473-4010-915a-9cf0e3ea115a"
      },
      "execution_count": null,
      "outputs": [
        {
          "output_type": "stream",
          "name": "stdout",
          "text": [
            "Your hourly rate: $16\n",
            "Your working hours in this week: 66\n",
            "Your expect to get pay for this week: $640.0\n"
          ]
        }
      ]
    },
    {
      "cell_type": "code",
      "source": [
        "#overall problem: I need to shopping calculator, that will ask the user what they are buy and in what quantity, and ptint a payslip\n",
        "#Step 1: We need the price, name of the item, and quantity\n",
        "#Step 2: Get the sales tax\n",
        "#Step 3: Coding\n",
        "#       create a variable to store price\n",
        "#       create a variable to store item name\n",
        "#       create a variable to store quantity\n",
        "#       create a variable to store sales tax rate\n",
        "#       multiplay price by quantity for total price\n",
        "#       calculate sales tax from total price and add it\n",
        "#Step 4: print the name of the item, price, the quantity, and the sales tax, finally total cost\n",
        "\n",
        "\n",
        "name = input(\"Enter the item name: \")\n",
        "price = float(input(\"How much is one \" + name + \"? \"))\n",
        "quantity = int(input(\"How many \" + name + \" are you buying: \"))\n",
        "salesTaxRate = float(input(\"Enter your state tax percent: \")) / 100\n",
        "totalCost = price*quantity\n",
        "totalTax = totalCost * salesTaxRate\n",
        "\n",
        "print()\n",
        "print(f\"Item Name: {name}\")\n",
        "print(f\"Item Price: ${price:.2f}\")\n",
        "print(f\"Quantity: {quantity}\")\n",
        "print(f\"Total Sales Tax: ${totalTax:.2f}\")\n",
        "print(f\"Total Cost: ${totalCost+totalTax:.2f}\")\n"
      ],
      "metadata": {
        "colab": {
          "base_uri": "https://localhost:8080/"
        },
        "id": "u65JXgK2_dSn",
        "outputId": "42029a45-fa33-4121-c51f-0898c5510704"
      },
      "execution_count": null,
      "outputs": [
        {
          "output_type": "stream",
          "name": "stdout",
          "text": [
            "Enter the item name: Butter\n",
            "How much is one Butter? 3.45\n",
            "How many Butter are you buying: 3\n",
            "Enter your state tax percent: 13\n",
            "\n",
            "Item Name: Butter\n",
            "Item Price: $3.45\n",
            "Quantity: 3\n",
            "Total Sales Tax: $1.35\n",
            "Total Cost: $11.70\n"
          ]
        }
      ]
    },
    {
      "cell_type": "code",
      "source": [
        "filePath = \"example.txt\"\n",
        "file = open(filePath, \"w\")\n",
        "file.write(\"Hello, World!\\nIt is a test.\\n\")\n",
        "file.close()\n"
      ],
      "metadata": {
        "id": "siGHDZs-OWU9"
      },
      "execution_count": null,
      "outputs": []
    },
    {
      "cell_type": "code",
      "source": [
        "file = open(filePath, \"r\")\n",
        "#content = file.read()\n",
        "#print(content)\n",
        "#file.close()\n",
        "\n",
        "line1 = file.readline()\n",
        "line2 = file.readline()\n",
        "line3 = file.readline()\n",
        "print(line1)\n",
        "print(line2)\n",
        "print(line3)\n",
        "file.close()\n"
      ],
      "metadata": {
        "colab": {
          "base_uri": "https://localhost:8080/"
        },
        "id": "5GOFke_2Phub",
        "outputId": "d1997432-fdbd-429b-a9d6-9cbf71007404"
      },
      "execution_count": null,
      "outputs": [
        {
          "output_type": "stream",
          "name": "stdout",
          "text": [
            "Hello, World!\n",
            "\n",
            "It is a test.\n",
            "\n",
            "\n"
          ]
        }
      ]
    },
    {
      "cell_type": "code",
      "source": [
        "#Read data from the file and write composed data to a new file\n",
        "file = open(\"story_words.txt\", \"r\")\n",
        "nounVal = file.readline().strip()\n",
        "colorVal = file.readline().strip()\n",
        "verbVal = file.readline().strip()\n",
        "numberVal = min(int(file.readline().strip()), 20)\n",
        "fractionVal = file.readline().strip()\n",
        "adjectiveVal = file.readline().strip()\n",
        "adverbVal = file.readline().strip()\n",
        "boolVal = file.readline().strip()\n",
        "file.close()\n",
        "\n",
        "file = open(\"new_story.txt\", \"w\")\n",
        "file.write(f\"There are {numberVal} {adjectiveVal} {nounVal}.\\n\")\n",
        "file.write(f\"Their color is {colorVal}.\\n\")\n",
        "file.write(f\"They {verbVal} {adverbVal} {adjectiveVal} and have {fractionVal} legs.\\n\")\n",
        "file.write(f\"You believe it is {boolVal}.\\n\")\n",
        "file.close()\n",
        "\n",
        "\n",
        "\n",
        "print('')\n",
        "print(f\"There are {numberVal} {adjectiveVal} {nounVal}\")\n",
        "print('Their color is', colorVal)\n",
        "print('They', verbVal, adverbVal, adjectiveVal, 'and have', fractionVal, 'legs')\n",
        "print('You believe it is', boolVal)\n"
      ],
      "metadata": {
        "colab": {
          "base_uri": "https://localhost:8080/"
        },
        "id": "B0PXQU0HT14v",
        "outputId": "c9b67c42-fbda-46b9-fe54-2d37551ab089"
      },
      "execution_count": 84,
      "outputs": [
        {
          "output_type": "stream",
          "name": "stdout",
          "text": [
            "\n",
            "There are 3 high bird\n",
            "Their color is red\n",
            "They fly very high and have 1.3 legs\n",
            "You believe it is true\n"
          ]
        }
      ]
    }
  ]
}