{
  "nbformat": 4,
  "nbformat_minor": 0,
  "metadata": {
    "colab": {
      "provenance": [],
      "authorship_tag": "ABX9TyNfYhxYTIQp1UBQdEUab0Xu",
      "include_colab_link": true
    },
    "kernelspec": {
      "name": "python3",
      "display_name": "Python 3"
    },
    "language_info": {
      "name": "python"
    }
  },
  "cells": [
    {
      "cell_type": "markdown",
      "metadata": {
        "id": "view-in-github",
        "colab_type": "text"
      },
      "source": [
        "<a href=\"https://colab.research.google.com/github/frankliu6/python-learning-journal/blob/main/lab%202%20work.ipynb\" target=\"_parent\"><img src=\"https://colab.research.google.com/assets/colab-badge.svg\" alt=\"Open In Colab\"/></a>"
      ]
    },
    {
      "cell_type": "code",
      "execution_count": 12,
      "metadata": {
        "colab": {
          "base_uri": "https://localhost:8080/"
        },
        "id": "yHvnt0pC-fJH",
        "outputId": "bb2e1eaf-868a-461f-8ee5-e74390d39139"
      },
      "outputs": [
        {
          "output_type": "stream",
          "name": "stdout",
          "text": [
            "Please modify the value to be converted.\n",
            "Kilometer to Mile:\n",
            "1033 Kilometer =  641.87643927 Miles\n",
            "Celsius to Fahrenheit:\n",
            "40 Celsius =  104.0 Fahrenheit\n",
            "Binary to Decimal:\n",
            "101101000  =  360\n"
          ]
        }
      ],
      "source": [
        "#Python Lab 2\n",
        "#Conversion Tools\n",
        "\n",
        "kilometerValue = 1033\n",
        "print('Please modify the value to be converted.')\n",
        "print('Kilometer to Mile:')\n",
        "print(kilometerValue, 'Kilometer = ', kilometerValue * 0.62137119, 'Miles')\n",
        "\n",
        "celsiusValue = 40\n",
        "print('Celsius to Fahrenheit:')\n",
        "print(celsiusValue, 'Celsius = ', celsiusValue * 9/5 + 32, 'Fahrenheit')\n",
        "\n",
        "binaryValue = 101101000\n",
        "print('Binary to Decimal:')\n",
        "print(binaryValue, ' = ', int(str(binaryValue), 2))\n",
        ""
      ]
    }
  ]
}